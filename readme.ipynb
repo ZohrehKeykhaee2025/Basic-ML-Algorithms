{
 "cells": [
  {
   "cell_type": "markdown",
   "id": "d8050b1a",
   "metadata": {},
   "source": [
    "# Statistical Learning in Python\n",
    "\n",
    "A beginner-friendly collection of classic supervised learning algorithms implemented using Python and Scikit-learn.\n",
    "\n",
    "## 📁 Structure\n",
    "\n",
    "- `notebooks/`\n",
    "  - `knn_classification.ipynb`: K-Nearest Neighbors classifier on the Iris dataset\n",
    "  - `svm_classification.ipynb`: Support Vector Machine classifier\n",
    "  - `decision_tree_classification.ipynb`: Decision Tree classifier with visualization\n",
    "\n",
    "## 🧠 Algorithms\n",
    "\n",
    "### 🔹 1. K-Nearest Neighbors (KNN)\n",
    "- Used for classification on Iris dataset\n",
    "- Standardized features using `StandardScaler`\n",
    "- Evaluated with confusion matrix and classification report\n",
    "\n",
    "### 🔹 2. Support Vector Machine (SVM)\n",
    "- Linear kernel used on scaled features\n",
    "- Simple and effective for small datasets\n",
    "- Includes scatter plot of first two features\n",
    "\n",
    "### 🔹 3. Decision Tree\n",
    "- Gini criterion with max depth = 3\n",
    "- Visualized using `plot_tree` from scikit-learn\n",
    "- Interpretable model for classification\n",
    "\n",
    "## 📊 Dataset\n",
    "\n",
    "All three notebooks use the [Iris dataset](https://en.wikipedia.org/wiki/Iris_flower_data_set), a classic dataset in statistical learning.\n",
    "\n",
    "## 🛠 Requirements\n",
    "\n",
    "Install dependencies using:\n",
    "\n",
    "```bash\n",
    "pip install -r requirements.txt\n",
    "\n",
    "\n",
    "## 📌 Author\n",
    "\n",
    "Zohreh Keykhaee  \n",
    "PhD Candidate in Statistics – Persian Gulf University  \n",
    "Interested in Statistical Learning, Machine Learning, and Robust Methods  \n",
    "📬 [GitHub](https://github.com/ZohrehKeykhaee2025)  \n",
    "🔗 [LinkedIn](https://www.linkedin.com/in/zohreh-keykhaee-ba6454344)  \n",
    "📧 Email: zohreh.keykhaee@mehr.pgu.ac.ir\n",
    "\n"
   ]
  }
 ],
 "metadata": {
  "kernelspec": {
   "display_name": "Python 3",
   "language": "python",
   "name": "python3"
  },
  "language_info": {
   "codemirror_mode": {
    "name": "ipython",
    "version": 3
   },
   "file_extension": ".py",
   "mimetype": "text/x-python",
   "name": "python",
   "nbconvert_exporter": "python",
   "pygments_lexer": "ipython3",
   "version": "3.12.7"
  }
 },
 "nbformat": 4,
 "nbformat_minor": 5
}
